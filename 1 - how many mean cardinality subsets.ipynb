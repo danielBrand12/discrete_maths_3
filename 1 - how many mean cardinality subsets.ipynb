{
 "cells": [
  {
   "cell_type": "code",
   "execution_count": 19,
   "id": "5ea08dd1",
   "metadata": {},
   "outputs": [],
   "source": [
    "from itertools import chain, combinations\n",
    "import numpy as np"
   ]
  },
  {
   "cell_type": "code",
   "execution_count": 14,
   "id": "032121d3",
   "metadata": {},
   "outputs": [],
   "source": [
    "def powerset(iterable):\n",
    "    s = list(iterable)\n",
    "    return chain.from_iterable(combinations(s, r) for r in range(len(s)+1))"
   ]
  },
  {
   "cell_type": "code",
   "execution_count": 40,
   "id": "1f15a2a6",
   "metadata": {},
   "outputs": [],
   "source": [
    "def mean_cardinality(iterableInString):\n",
    "    setOfLetters = list(powerset(iterableInString))\n",
    "    contMean = 0\n",
    "    arrLike = []\n",
    "    for r in range(len(setOfLetters)):\n",
    "        currentSet = setOfLetters[r]\n",
    "        cardinality = len(currentSet)\n",
    "        if(cardinality%2 ==0):\n",
    "            arrLike.append([currentSet, cardinality])\n",
    "    return arrLike"
   ]
  },
  {
   "cell_type": "code",
   "execution_count": 45,
   "id": "358ad755",
   "metadata": {},
   "outputs": [
    {
     "data": {
      "text/plain": [
       "1"
      ]
     },
     "execution_count": 45,
     "metadata": {},
     "output_type": "execute_result"
    }
   ],
   "source": [
    "# a set of void (\"\")\n",
    "meanSets = mean_cardinality(\"\")\n",
    "len(meanSets)"
   ]
  },
  {
   "cell_type": "code",
   "execution_count": 46,
   "id": "6be830d1",
   "metadata": {},
   "outputs": [
    {
     "data": {
      "text/plain": [
       "1"
      ]
     },
     "execution_count": 46,
     "metadata": {},
     "output_type": "execute_result"
    }
   ],
   "source": [
    "# a set of one element (\"a\")\n",
    "meanSets = mean_cardinality(\"a\")\n",
    "len(meanSets)"
   ]
  },
  {
   "cell_type": "code",
   "execution_count": 47,
   "id": "5fb2d0ea",
   "metadata": {},
   "outputs": [
    {
     "data": {
      "text/plain": [
       "2"
      ]
     },
     "execution_count": 47,
     "metadata": {},
     "output_type": "execute_result"
    }
   ],
   "source": [
    "# a set of two elements (\"ab\")\n",
    "meanSets = mean_cardinality(\"ab\")\n",
    "len(meanSets)"
   ]
  },
  {
   "cell_type": "code",
   "execution_count": 48,
   "id": "acad1078",
   "metadata": {},
   "outputs": [
    {
     "data": {
      "text/plain": [
       "4"
      ]
     },
     "execution_count": 48,
     "metadata": {},
     "output_type": "execute_result"
    }
   ],
   "source": [
    "# a set of three elements (\"abc\")\n",
    "meanSets = mean_cardinality(\"abc\")\n",
    "len(meanSets)"
   ]
  },
  {
   "cell_type": "code",
   "execution_count": 50,
   "id": "de368829",
   "metadata": {},
   "outputs": [
    {
     "data": {
      "text/plain": [
       "16"
      ]
     },
     "execution_count": 50,
     "metadata": {},
     "output_type": "execute_result"
    }
   ],
   "source": [
    "# a set of five elements (\"abcde\")\n",
    "meanSets = mean_cardinality(\"abcde\")\n",
    "len(meanSets)"
   ]
  },
  {
   "cell_type": "code",
   "execution_count": 51,
   "id": "0ebd662a",
   "metadata": {},
   "outputs": [
    {
     "data": {
      "text/plain": [
       "32"
      ]
     },
     "execution_count": 51,
     "metadata": {},
     "output_type": "execute_result"
    }
   ],
   "source": [
    "# a set of six elements (\"abcdef\")\n",
    "meanSets = mean_cardinality(\"abcdef\")\n",
    "len(meanSets)"
   ]
  },
  {
   "cell_type": "code",
   "execution_count": 52,
   "id": "3556a88a",
   "metadata": {},
   "outputs": [
    {
     "data": {
      "text/plain": [
       "64"
      ]
     },
     "execution_count": 52,
     "metadata": {},
     "output_type": "execute_result"
    }
   ],
   "source": [
    "# a set of seven elements (\"abcdefg\")\n",
    "meanSets = mean_cardinality(\"abcdefg\")\n",
    "len(meanSets)"
   ]
  },
  {
   "cell_type": "code",
   "execution_count": 53,
   "id": "19c8d53e",
   "metadata": {},
   "outputs": [
    {
     "data": {
      "text/plain": [
       "128"
      ]
     },
     "execution_count": 53,
     "metadata": {},
     "output_type": "execute_result"
    }
   ],
   "source": [
    "# a set of eight elements (\"abcdefgh\")\n",
    "meanSets = mean_cardinality(\"abcdefgh\")\n",
    "len(meanSets)"
   ]
  },
  {
   "cell_type": "code",
   "execution_count": null,
   "id": "71e30daf",
   "metadata": {},
   "outputs": [],
   "source": []
  }
 ],
 "metadata": {
  "kernelspec": {
   "display_name": "Python 3",
   "language": "python",
   "name": "python3"
  },
  "language_info": {
   "codemirror_mode": {
    "name": "ipython",
    "version": 3
   },
   "file_extension": ".py",
   "mimetype": "text/x-python",
   "name": "python",
   "nbconvert_exporter": "python",
   "pygments_lexer": "ipython3",
   "version": "3.8.8"
  }
 },
 "nbformat": 4,
 "nbformat_minor": 5
}
