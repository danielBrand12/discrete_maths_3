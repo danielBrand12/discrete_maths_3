{
 "cells": [
  {
   "cell_type": "code",
   "execution_count": 12,
   "id": "300688b3",
   "metadata": {},
   "outputs": [],
   "source": [
    "def random_ksubsets(n, k):\n",
    "    if(n<0 or k <0 or k>n):\n",
    "        return\n",
    "    elif(n==0 and k==0):\n",
    "        return([])\n",
    "        "
   ]
  },
  {
   "cell_type": "code",
   "execution_count": null,
   "id": "6c5593b1",
   "metadata": {},
   "outputs": [],
   "source": []
  }
 ],
 "metadata": {
  "kernelspec": {
   "display_name": "Python 3 (ipykernel)",
   "language": "python",
   "name": "python3"
  },
  "language_info": {
   "codemirror_mode": {
    "name": "ipython",
    "version": 3
   },
   "file_extension": ".py",
   "mimetype": "text/x-python",
   "name": "python",
   "nbconvert_exporter": "python",
   "pygments_lexer": "ipython3",
   "version": "3.8.10"
  }
 },
 "nbformat": 4,
 "nbformat_minor": 5
}
