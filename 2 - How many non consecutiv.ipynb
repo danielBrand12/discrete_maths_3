{
 "cells": [
  {
   "cell_type": "code",
   "execution_count": 25,
   "id": "cedbc3b7",
   "metadata": {},
   "outputs": [],
   "source": [
    "#How many subsets of {1, 2, . . . , n} contain no two consecutive elements? Hint:\n",
    "#Let f(n) be the number, and find a recurrence formula for f(n) by the east\n",
    "#side-west side way of thinking."
   ]
  },
  {
   "cell_type": "code",
   "execution_count": 62,
   "id": "9c0b819d",
   "metadata": {},
   "outputs": [],
   "source": [
    "from itertools import chain, combinations\n",
    "import numpy as np"
   ]
  },
  {
   "cell_type": "code",
   "execution_count": 72,
   "id": "373f2b90",
   "metadata": {},
   "outputs": [],
   "source": [
    "def powerset(iterable):\n",
    "    s = list(iterable)\n",
    "    return chain.from_iterable(combinations(s, r) for r in range(len(s)+1))"
   ]
  },
  {
   "cell_type": "code",
   "execution_count": 111,
   "id": "a2479a3a",
   "metadata": {},
   "outputs": [],
   "source": [
    "def nonConsecutiveEastSideWestSide(setOfNumebers):\n",
    "    eastSide = []\n",
    "    westSide = []\n",
    "    for r in range(len(setOfNumebers)):\n",
    "        currentSet = setOfNumebers[r]\n",
    "        isEast= True\n",
    "        for s in range(len(currentSet)-1):\n",
    "            currentNumber = currentSet[s]\n",
    "            nextNumber = currentSet[s+1]\n",
    "            if(currentNumber+1 == nextNumber):\n",
    "                isEast=False\n",
    "        if(isEast or len(currentSet)<=1):\n",
    "            eastSide.append(currentSet)\n",
    "        else:\n",
    "            westSide.append(currentSet)\n",
    "    return (eastSide, westSide)"
   ]
  },
  {
   "cell_type": "code",
   "execution_count": 132,
   "id": "74aec7bb",
   "metadata": {},
   "outputs": [
    {
     "data": {
      "text/plain": [
       "([()], 1)"
      ]
     },
     "execution_count": 132,
     "metadata": {},
     "output_type": "execute_result"
    }
   ],
   "source": [
    "# void set\n",
    "setOfNumebers = list(powerset([]))\n",
    "es, _ = nonConsecutiveEastSideWestSide(setOfNumebers)\n",
    "es, len(es)"
   ]
  },
  {
   "cell_type": "code",
   "execution_count": 125,
   "id": "6ede1911",
   "metadata": {},
   "outputs": [
    {
     "data": {
      "text/plain": [
       "([(), (1,)], 2)"
      ]
     },
     "execution_count": 125,
     "metadata": {},
     "output_type": "execute_result"
    }
   ],
   "source": [
    "# set of one number [1]\n",
    "setOfNumebers = list(powerset([1]))\n",
    "es, _ = nonConsecutiveEastSideWestSide(setOfNumebers)\n",
    "es, len(es)"
   ]
  },
  {
   "cell_type": "code",
   "execution_count": 126,
   "id": "dfb99d7a",
   "metadata": {},
   "outputs": [
    {
     "data": {
      "text/plain": [
       "([(), (1,), (2,)], 3)"
      ]
     },
     "execution_count": 126,
     "metadata": {},
     "output_type": "execute_result"
    }
   ],
   "source": [
    "# set of two numbers [1,2]\n",
    "setOfNumebers = list(powerset([1,2]))\n",
    "es, _ = nonConsecutiveEastSideWestSide(setOfNumebers)\n",
    "es, len(es)"
   ]
  },
  {
   "cell_type": "code",
   "execution_count": 127,
   "id": "91302467",
   "metadata": {},
   "outputs": [
    {
     "data": {
      "text/plain": [
       "([(), (1,), (2,), (3,), (1, 3)], 5)"
      ]
     },
     "execution_count": 127,
     "metadata": {},
     "output_type": "execute_result"
    }
   ],
   "source": [
    "# set of two numbers [1,2,3]\n",
    "setOfNumebers = list(powerset([1,2,3]))\n",
    "es, _ = nonConsecutiveEastSideWestSide(setOfNumebers)\n",
    "es, len(es)"
   ]
  },
  {
   "cell_type": "code",
   "execution_count": 128,
   "id": "e8b9a601",
   "metadata": {},
   "outputs": [
    {
     "data": {
      "text/plain": [
       "([(), (1,), (2,), (3,), (4,), (1, 3), (1, 4), (2, 4)], 8)"
      ]
     },
     "execution_count": 128,
     "metadata": {},
     "output_type": "execute_result"
    }
   ],
   "source": [
    "# set of four numbers [1,2,3,4]\n",
    "setOfNumebers = list(powerset([1,2,3,4]))\n",
    "es, _ = nonConsecutiveEastSideWestSide(setOfNumebers)\n",
    "es, len(es)"
   ]
  },
  {
   "cell_type": "code",
   "execution_count": 130,
   "id": "f9eb6ba5",
   "metadata": {},
   "outputs": [
    {
     "data": {
      "text/plain": [
       "13"
      ]
     },
     "execution_count": 130,
     "metadata": {},
     "output_type": "execute_result"
    }
   ],
   "source": [
    "# set of five numbers [1,2,3,4,5]\n",
    "setOfNumebers = list(powerset([1,2,3,4,5]))\n",
    "es, _ = nonConsecutiveEastSideWestSide(setOfNumebers)\n",
    "len(es)"
   ]
  },
  {
   "cell_type": "code",
   "execution_count": 131,
   "id": "06d8a7e6",
   "metadata": {},
   "outputs": [
    {
     "data": {
      "text/plain": [
       "21"
      ]
     },
     "execution_count": 131,
     "metadata": {},
     "output_type": "execute_result"
    }
   ],
   "source": [
    "# set of six numbers\n",
    "setOfNumebers = list(powerset([1,2,3,4,5,6]))\n",
    "es, _ = nonConsecutiveEastSideWestSide(setOfNumebers)\n",
    "len(es)"
   ]
  },
  {
   "cell_type": "code",
   "execution_count": 133,
   "id": "5a5b8944",
   "metadata": {},
   "outputs": [
    {
     "data": {
      "text/plain": [
       "34"
      ]
     },
     "execution_count": 133,
     "metadata": {},
     "output_type": "execute_result"
    }
   ],
   "source": [
    "# set of seven numbers\n",
    "setOfNumebers = list(powerset([1,2,3,4,5,6,7]))\n",
    "es, _ = nonConsecutiveEastSideWestSide(setOfNumebers)\n",
    "len(es)"
   ]
  },
  {
   "cell_type": "code",
   "execution_count": 134,
   "id": "a698959b",
   "metadata": {},
   "outputs": [
    {
     "data": {
      "text/plain": [
       "55"
      ]
     },
     "execution_count": 134,
     "metadata": {},
     "output_type": "execute_result"
    }
   ],
   "source": [
    "# set of eigth numbers\n",
    "setOfNumebers = list(powerset([1,2,3,4,5,6,7,8]))\n",
    "es, _ = nonConsecutiveEastSideWestSide(setOfNumebers)\n",
    "len(es)"
   ]
  },
  {
   "cell_type": "code",
   "execution_count": 136,
   "id": "d254d23a",
   "metadata": {},
   "outputs": [],
   "source": [
    "# 1, 2, 3, 5, 8, 13, 21, 34, 55\n",
    "# FIBONACCI Fn=Fn−2+Fn−1 where n≥2 "
   ]
  }
 ],
 "metadata": {
  "kernelspec": {
   "display_name": "Python 3",
   "language": "python",
   "name": "python3"
  },
  "language_info": {
   "codemirror_mode": {
    "name": "ipython",
    "version": 3
   },
   "file_extension": ".py",
   "mimetype": "text/x-python",
   "name": "python",
   "nbconvert_exporter": "python",
   "pygments_lexer": "ipython3",
   "version": "3.8.8"
  }
 },
 "nbformat": 4,
 "nbformat_minor": 5
}
