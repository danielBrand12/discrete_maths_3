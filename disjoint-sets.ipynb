{
 "cells": [
  {
   "cell_type": "code",
   "execution_count": 21,
   "id": "ad9357fd",
   "metadata": {},
   "outputs": [],
   "source": [
    "from itertools import chain, combinations"
   ]
  },
  {
   "cell_type": "code",
   "execution_count": 22,
   "id": "3f336821",
   "metadata": {},
   "outputs": [],
   "source": [
    "def powerset(iterable):\n",
    "    s = set(iterable)\n",
    "    return chain.from_iterable(combinations(s, r) for r in range(len(s)+1))"
   ]
  },
  {
   "cell_type": "code",
   "execution_count": 32,
   "id": "f32b818e",
   "metadata": {},
   "outputs": [],
   "source": [
    "letters = \"abcd\"\n",
    "setOfLetters = list(powerset(letters))\n"
   ]
  },
  {
   "cell_type": "code",
   "execution_count": 33,
   "id": "a3ef1c60",
   "metadata": {},
   "outputs": [
    {
     "name": "stdout",
     "output_type": "stream",
     "text": [
      "() ('d',)\n",
      "() ('a',)\n",
      "() ('b',)\n",
      "() ('c',)\n",
      "() ('d', 'a')\n",
      "() ('d', 'b')\n",
      "() ('d', 'c')\n",
      "() ('a', 'b')\n",
      "() ('a', 'c')\n",
      "() ('b', 'c')\n",
      "() ('d', 'a', 'b')\n",
      "() ('d', 'a', 'c')\n",
      "() ('d', 'b', 'c')\n",
      "() ('a', 'b', 'c')\n",
      "() ('d', 'a', 'b', 'c')\n",
      "('d',) ('a',)\n",
      "('d',) ('b',)\n",
      "('d',) ('c',)\n",
      "('d',) ('a', 'b')\n",
      "('d',) ('a', 'c')\n",
      "('d',) ('b', 'c')\n",
      "('d',) ('a', 'b', 'c')\n",
      "('a',) ('b',)\n",
      "('a',) ('c',)\n",
      "('a',) ('d', 'b')\n",
      "('a',) ('d', 'c')\n",
      "('a',) ('b', 'c')\n",
      "('a',) ('d', 'b', 'c')\n",
      "('b',) ('c',)\n",
      "('b',) ('d', 'a')\n",
      "('b',) ('d', 'c')\n",
      "('b',) ('a', 'c')\n",
      "('b',) ('d', 'a', 'c')\n",
      "('c',) ('d', 'a')\n",
      "('c',) ('d', 'b')\n",
      "('c',) ('a', 'b')\n",
      "('c',) ('d', 'a', 'b')\n",
      "('d', 'a') ('b', 'c')\n",
      "('d', 'b') ('a', 'c')\n",
      "('d', 'c') ('a', 'b')\n",
      "40\n"
     ]
    }
   ],
   "source": [
    "cont = 0\n",
    "for i in range(len(setOfLetters)):\n",
    "    for j in range(i + 1, len(setOfLetters)):\n",
    "        if set(setOfLetters[i]).isdisjoint(set(setOfLetters[j])):\n",
    "            cont += 1\n",
    "            print(setOfLetters[i], setOfLetters[j])\n",
    "print(cont)"
   ]
  },
  {
   "cell_type": "code",
   "execution_count": null,
   "id": "7265e24b",
   "metadata": {},
   "outputs": [],
   "source": []
  }
 ],
 "metadata": {
  "kernelspec": {
   "display_name": "Python 3",
   "language": "python",
   "name": "python3"
  },
  "language_info": {
   "codemirror_mode": {
    "name": "ipython",
    "version": 3
   },
   "file_extension": ".py",
   "mimetype": "text/x-python",
   "name": "python",
   "nbconvert_exporter": "python",
   "pygments_lexer": "ipython3",
   "version": "3.8.8"
  }
 },
 "nbformat": 4,
 "nbformat_minor": 5
}
