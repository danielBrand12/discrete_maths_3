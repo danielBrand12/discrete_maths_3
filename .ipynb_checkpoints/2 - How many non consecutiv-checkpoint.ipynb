{
 "cells": [
  {
   "cell_type": "code",
   "execution_count": 10,
   "id": "330034cf",
   "metadata": {},
   "outputs": [],
   "source": [
    "#How many subsets of {1, 2, . . . , n} contain no two consecutive elements? Hint:\n",
    "#Let f(n) be the number, and find a recurrence formula for f(n) by the east\n",
    "#side-west side way of thinking."
   ]
  },
  {
   "cell_type": "code",
   "execution_count": 11,
   "id": "4b29dbb5",
   "metadata": {},
   "outputs": [],
   "source": [
    "from itertools import chain, combinations\n",
    "import numpy as np"
   ]
  },
  {
   "cell_type": "code",
   "execution_count": 7,
   "id": "35cc45e6",
   "metadata": {},
   "outputs": [],
   "source": [
    "def powerset(iterable):\n",
    "    s = list(iterable)\n",
    "    return chain.from_iterable(combinations(s, r) for r in range(len(s)+1))"
   ]
  },
  {
   "cell_type": "code",
   "execution_count": 13,
   "id": "ce8d5a42",
   "metadata": {},
   "outputs": [],
   "source": [
    "setOfNumebers = list(powerset([1,2,3]))"
   ]
  },
  {
   "cell_type": "code",
   "execution_count": 15,
   "id": "c13b7ecf",
   "metadata": {},
   "outputs": [
    {
     "data": {
      "text/plain": [
       "[(), (1,), (2,), (3,), (1, 2), (1, 3), (2, 3), (1, 2, 3)]"
      ]
     },
     "execution_count": 15,
     "metadata": {},
     "output_type": "execute_result"
    }
   ],
   "source": [
    "setOfNumebers"
   ]
  },
  {
   "cell_type": "code",
   "execution_count": 19,
   "id": "5a2c26e9",
   "metadata": {},
   "outputs": [
    {
     "name": "stdout",
     "output_type": "stream",
     "text": [
      "1\n",
      "2\n",
      "3\n",
      "1\n",
      "2\n",
      "1\n",
      "3\n",
      "2\n",
      "3\n",
      "1\n",
      "2\n",
      "3\n"
     ]
    }
   ],
   "source": [
    "finalArr = []\n",
    "for r in range(len(setOfNumebers)):\n",
    "    currentSet = setOfNumebers[r]\n",
    "    for s in range(len(currentSet)-1):\n",
    "        if(!(currentSet[s+1]+1 == currentSet[s])):\n",
    "            finalArr.append()\n",
    "    "
   ]
  },
  {
   "cell_type": "code",
   "execution_count": null,
   "id": "9a258363",
   "metadata": {},
   "outputs": [],
   "source": []
  }
 ],
 "metadata": {
  "kernelspec": {
   "display_name": "Python 3 (ipykernel)",
   "language": "python",
   "name": "python3"
  },
  "language_info": {
   "codemirror_mode": {
    "name": "ipython",
    "version": 3
   },
   "file_extension": ".py",
   "mimetype": "text/x-python",
   "name": "python",
   "nbconvert_exporter": "python",
   "pygments_lexer": "ipython3",
   "version": "3.8.10"
  }
 },
 "nbformat": 4,
 "nbformat_minor": 5
}
